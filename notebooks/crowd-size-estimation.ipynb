{
 "cells": [
  {
   "cell_type": "code",
   "execution_count": 1,
   "id": "53e8b329-e265-42e8-ae12-ec0e20003719",
   "metadata": {},
   "outputs": [],
   "source": [
    "from fastkml import kml\n",
    "from shapely.geometry import Polygon\n",
    "from pyproj import Geod"
   ]
  },
  {
   "cell_type": "code",
   "execution_count": 7,
   "id": "1b811bbc-2088-459d-bfe7-83a8d726b547",
   "metadata": {},
   "outputs": [],
   "source": [
    "# Load the KML file\n",
    "with open(\"../Hīkoi path.kml\", \"rb\") as file:\n",
    "    doc = file.read()"
   ]
  },
  {
   "cell_type": "code",
   "execution_count": 23,
   "id": "778ad615-5c04-4625-90c3-ef254088908c",
   "metadata": {
    "scrolled": true
   },
   "outputs": [],
   "source": [
    "# Parse the KML file\n",
    "k = kml.KML().from_string(doc)"
   ]
  },
  {
   "cell_type": "code",
   "execution_count": 54,
   "id": "6deb29cf-76f2-42ce-892b-c8ef8575158d",
   "metadata": {},
   "outputs": [
    {
     "name": "stdout",
     "output_type": "stream",
     "text": [
      "Internal area: 0.0204 square kilometers\n",
      "               2.045 hectares\n",
      "               20445.352 square metres\n"
     ]
    }
   ],
   "source": [
    "# Traverse the KML structure to find the coordinates\n",
    "features = k.features\n",
    "placemark = features[0].features[0]  # Adjust depending on structure\n",
    "coordinates = list(placemark.geometry.coords)\n",
    "\n",
    "# Create a Shapely polygon\n",
    "polygon = Polygon(coordinates)\n",
    "\n",
    "# Ensure polygon is closed\n",
    "if not polygon.is_closed:\n",
    "    coordinates.append(coordinates[0])\n",
    "    polygon = Polygon(coordinates)\n",
    "\n",
    "# Calculate the area using PyProj's Geod\n",
    "geod = Geod(ellps=\"WGS84\")\n",
    "area, _ = geod.geometry_area_perimeter(polygon)\n",
    "\n",
    "# Convert area to square kilometers (optional)\n",
    "area_sq_km = abs(area) / 1e6\n",
    "print(f\"Internal area: {area_sq_km:.4f} square kilometers\")\n",
    "print(f\"               {area_sq_km * 100:.3f} hectares\")\n",
    "print(f\"               {area_sq_km * 1000000:.3f} square metres\")"
   ]
  },
  {
   "cell_type": "code",
   "execution_count": 70,
   "id": "d0234b05-ddcb-4a3e-bb71-7a5e1f871306",
   "metadata": {},
   "outputs": [
    {
     "name": "stdout",
     "output_type": "stream",
     "text": [
      "Number of people (est): 40891\n"
     ]
    }
   ],
   "source": [
    "person_density = 2.0\n",
    "print(f\"Number of people (est): {area * person_density:.0f}\")"
   ]
  }
 ],
 "metadata": {
  "kernelspec": {
   "display_name": "Python 3 (ipykernel)",
   "language": "python",
   "name": "python3"
  },
  "language_info": {
   "codemirror_mode": {
    "name": "ipython",
    "version": 3
   },
   "file_extension": ".py",
   "mimetype": "text/x-python",
   "name": "python",
   "nbconvert_exporter": "python",
   "pygments_lexer": "ipython3",
   "version": "3.10.12"
  }
 },
 "nbformat": 4,
 "nbformat_minor": 5
}
